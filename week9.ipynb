{
  "nbformat": 4,
  "nbformat_minor": 0,
  "metadata": {
    "colab": {
      "name": "week9.ipynb",
      "provenance": [],
      "authorship_tag": "ABX9TyPd5PIg3dWLf4nl4KYJR4MO",
      "include_colab_link": true
    },
    "kernelspec": {
      "name": "python3",
      "display_name": "Python 3"
    },
    "language_info": {
      "name": "python"
    }
  },
  "cells": [
    {
      "cell_type": "markdown",
      "metadata": {
        "id": "view-in-github",
        "colab_type": "text"
      },
      "source": [
        "<a href=\"https://colab.research.google.com/github/Aldirhezaldi/PCVK_Genap_2021/blob/main/week9.ipynb\" target=\"_parent\"><img src=\"https://colab.research.google.com/assets/colab-badge.svg\" alt=\"Open In Colab\"/></a>"
      ]
    },
    {
      "cell_type": "markdown",
      "metadata": {
        "id": "BLhB97jj7xzl"
      },
      "source": [
        "**TUGAS PRAKTIKUM**"
      ]
    },
    {
      "cell_type": "markdown",
      "metadata": {
        "id": "kO3S-ptl7_7z"
      },
      "source": [
        "1. Buka https://colab.research.google.com/. Setelah dipastikan bahwa google Colab\n",
        "terhubung dengan Github Anda, buat notebook baru dan beri nama “Week9.ipynb”. \n",
        "Kemudian import folder yang ada di Drive Anda dengan cara sebagai berikut."
      ]
    },
    {
      "cell_type": "code",
      "metadata": {
        "colab": {
          "base_uri": "https://localhost:8080/"
        },
        "id": "27eYfdMj0Iam",
        "outputId": "cd5932db-59ea-4425-d64c-327d5369ee0f"
      },
      "source": [
        "from google.colab import drive\n",
        "drive.mount('/content/drive')"
      ],
      "execution_count": 1,
      "outputs": [
        {
          "output_type": "stream",
          "text": [
            "Mounted at /content/drive\n"
          ],
          "name": "stdout"
        }
      ]
    },
    {
      "cell_type": "markdown",
      "metadata": {
        "id": "OQkpdfZ-8OR3"
      },
      "source": [
        "2. Import beberapa library berikut yang akan digunakan selama uji coba praktikum\n",
        "minggu ke-6 berikut."
      ]
    },
    {
      "cell_type": "code",
      "metadata": {
        "id": "H7dxNEzu8Q9g"
      },
      "source": [
        "import cv2\n",
        "import numpy as np\n",
        "from matplotlib import pyplot as plt"
      ],
      "execution_count": 2,
      "outputs": []
    },
    {
      "cell_type": "markdown",
      "metadata": {
        "id": "pLx97uJ28afK"
      },
      "source": [
        "3. Buatlah fungsi dilasi serta tampilkan hasil dilasi pada citra dengan Structuring Element\n",
        "Dilasi (SED) berbentuk square 5 x 5 tanpa menggunakan library morphology dari\n",
        "openCV, sehingga menghasilkan tampilan seperti di bawah ini: (Gunakan gambar\n",
        "j.png) "
      ]
    },
    {
      "cell_type": "markdown",
      "metadata": {
        "id": "dyJyWBVQ8hwO"
      },
      "source": [
        "4. Buatlah fungsi erosi serta tampilkan hasil erosi pada citra dengan Structuring Element\n",
        "Erosi (SE) berbentuk square 5 x 5 tanpa menggunakan library morphology dari\n",
        "openCV, sehingga menghasilkan tampilan seperti di bawah ini: (Gunakan gambar\n",
        "j.png) "
      ]
    },
    {
      "cell_type": "markdown",
      "metadata": {
        "id": "aDTauJ6e8i5o"
      },
      "source": [
        "5. Buatlah program implementasi operasi dilasi Structuring Element Dilasi (SED)\n",
        "berbentuk square 5 x 5 dengan menggunakan library morphology dari openCV,\n",
        "sehingga menghasilkan tampilan seperti di bawah ini: (Gunakan gambar j.png) \n"
      ]
    },
    {
      "cell_type": "code",
      "metadata": {
        "id": "NgwP2Idk81Mx"
      },
      "source": [
        ""
      ],
      "execution_count": null,
      "outputs": []
    },
    {
      "cell_type": "markdown",
      "metadata": {
        "id": "owkyE3oN8lzp"
      },
      "source": [
        "6. Buatlah program implementasi operasi dilasi Structuring Element Erosi (SE) berbentuk\n",
        "square 5 x 5 dengan menggunakan library morphology dari openCV, sehingga\n",
        "menghasilkan tampilan seperti di bawah ini: (Gunakan gambar j.png) \n"
      ]
    },
    {
      "cell_type": "markdown",
      "metadata": {
        "id": "-gpxB2zo8pj5"
      },
      "source": [
        "7.Buatlah program implementasi operasi opening dengan Structuring Element\n",
        "berbentuk square 7 x 7 tanpa dan dengan menggunakan library morphology dari\n",
        "openCV, sehingga menghasilkan tampilan seperti di bawah ini: (Gunakan gambar\n",
        "j.png) \n"
      ]
    },
    {
      "cell_type": "markdown",
      "metadata": {
        "id": "zAeqbylj8sXm"
      },
      "source": [
        "8. Buatlah program implementasi operasi closing dengan Structuring Element berbentuk\n",
        "square 7 x 7 tanpa dan dengan menggunakan library morphology dari openCV,\n",
        "sehingga menghasilkan tampilan seperti di bawah ini: (Gunakan gambar j.png) "
      ]
    }
  ]
}