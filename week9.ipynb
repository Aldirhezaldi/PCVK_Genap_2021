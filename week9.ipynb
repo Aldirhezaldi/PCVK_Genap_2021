{
  "nbformat": 4,
  "nbformat_minor": 0,
  "metadata": {
    "colab": {
      "name": "week9.ipynb",
      "provenance": [],
      "authorship_tag": "ABX9TyPX49JE+SZ1+xSzfaQVTIP+",
      "include_colab_link": true
    },
    "kernelspec": {
      "name": "python3",
      "display_name": "Python 3"
    },
    "language_info": {
      "name": "python"
    }
  },
  "cells": [
    {
      "cell_type": "markdown",
      "metadata": {
        "id": "view-in-github",
        "colab_type": "text"
      },
      "source": [
        "<a href=\"https://colab.research.google.com/github/Aldirhezaldi/PCVK_Genap_2021/blob/main/week9.ipynb\" target=\"_parent\"><img src=\"https://colab.research.google.com/assets/colab-badge.svg\" alt=\"Open In Colab\"/></a>"
      ]
    },
    {
      "cell_type": "code",
      "metadata": {
        "id": "QAZ0ofxfd2sB"
      },
      "source": [
        "from google.colab import drive\n",
        "\n",
        "#akses google drive\n",
        "drive.mount('/content/drive/')"
      ],
      "execution_count": null,
      "outputs": []
    },
    {
      "cell_type": "code",
      "metadata": {
        "id": "B4TcNm9Wd8F4"
      },
      "source": [
        "import cv2\n",
        "import numpy as np\n",
        "from matplotlib import pyplot as plt\n",
        "\n",
        "img = cv2.imread('/content/drive/MyDrive/folder gambar/Images/j.png')\n",
        "plt.imshow(img)"
      ],
      "execution_count": null,
      "outputs": []
    },
    {
      "cell_type": "code",
      "metadata": {
        "id": "q7-h1Oiwd-PU"
      },
      "source": [
        "#No.3\n",
        "kernel = np.ones((5,5), np.uint8)\n",
        "dilation = cv2.dilate(img, kernel, iterations = 1)\n",
        "\n",
        "plt.subplot(121),plt.imshow(img),plt.title('Citra Awal')\n",
        "plt.subplot(122),plt.imshow(dilation),plt.title('Citra Hasil Dilasi')"
      ],
      "execution_count": null,
      "outputs": []
    },
    {
      "cell_type": "code",
      "metadata": {
        "id": "VrXPnz7OeAMt"
      },
      "source": [
        "#No.4\n",
        "kernel = np.ones((5,5), np.uint8)\n",
        "erosion = cv2.morphologyEx(img, cv2.MORPH_ERODE, kernel)\n",
        "\n",
        "plt.subplot(121), plt.imshow(img), plt.title('Citra Awal')\n",
        "plt.subplot(122), plt.imshow(erosion), plt.title('Citra Hasil Erosi')"
      ],
      "execution_count": null,
      "outputs": []
    },
    {
      "cell_type": "code",
      "metadata": {
        "id": "t4ever-ZeCp5"
      },
      "source": [
        "#No.5\n",
        "kernel = np.ones((5,5), np.uint8)\n",
        "dilation = cv2.morphologyEx(img, cv2.MORPH_DILATE, kernel)\n",
        "\n",
        "plt.subplot(121), plt.imshow(img), plt.title('Citra Awal')\n",
        "plt.subplot(122), plt.imshow(dilation), plt.title('Citra Hasil Dilasi')"
      ],
      "execution_count": null,
      "outputs": []
    },
    {
      "cell_type": "code",
      "metadata": {
        "id": "oazszsrqeFVK"
      },
      "source": [
        "#No.6\n",
        "kernel = np.ones((5,5), np.uint8)\n",
        "erosion = cv2.morphologyEx(img, cv2.MORPH_ERODE, kernel)\n",
        "\n",
        "plt.subplot(121), plt.imshow(img), plt.title('Citra Awal')\n",
        "plt.subplot(122), plt.imshow(erosion), plt.title('Citra Hasil Erosi')"
      ],
      "execution_count": null,
      "outputs": []
    },
    {
      "cell_type": "code",
      "metadata": {
        "id": "yOU_gplAeHVx"
      },
      "source": [
        "#No.7 dengan library\n",
        "kernel = np.ones((7,7), np.uint8)\n",
        "opening = cv2.morphologyEx(img, cv2.MORPH_OPEN, kernel)\n",
        "\n",
        "plt.subplot(121), plt.imshow(img), plt.title('Citra Awal')\n",
        "plt.subplot(122), plt.imshow(opening), plt.title('Citra Hasil Opening')"
      ],
      "execution_count": null,
      "outputs": []
    },
    {
      "cell_type": "code",
      "metadata": {
        "id": "Y-O4sfiHeJRG"
      },
      "source": [
        "#No.7 tanpa library\n",
        "img = cv2.imread('/content/drive/MyDrive/folder gambar/Images/j.png')\n",
        "\n",
        "element = cv2.getStructuringElement(cv2.MORPH_RECT,(7,7))\n",
        "erosion_dst = cv2.erode(img, element)\n",
        "opening_dst = cv2.dilate(erosion_dst, element)\n",
        "\n",
        "plt.subplot(121), plt.imshow(img), plt.title('Citra Awal')\n",
        "plt.subplot(122), plt.imshow(opening_dst), plt.title('Citra Hasil Opening')"
      ],
      "execution_count": null,
      "outputs": []
    },
    {
      "cell_type": "code",
      "metadata": {
        "id": "UdcAObn_eLet"
      },
      "source": [
        "#No.8 dengan library\n",
        "kernel = np.ones((7,7), np.uint8)\n",
        "closing = cv2.morphologyEx(img, cv2.MORPH_CLOSE, kernel)\n",
        "\n",
        "plt.subplot(121), plt.imshow(img), plt.title('Citra Awal')\n",
        "plt.subplot(122), plt.imshow(closing), plt.title('Citra Hasil Closing')"
      ],
      "execution_count": null,
      "outputs": []
    },
    {
      "cell_type": "code",
      "metadata": {
        "id": "SxpTJD50eN3O"
      },
      "source": [
        "#No.8 tanpa library\n",
        "img = cv2.imread('/content/drive/MyDrive/folder gambar/Images/j.png')\n",
        "\n",
        "element = cv2.getStructuringElement(cv2.MORPH_RECT,(7,7))\n",
        "dilate_dst = cv2.dilate(img, element)\n",
        "closing_dst = cv2.erode(dilate_dst, element)\n",
        "\n",
        "plt.subplot(121), plt.imshow(img), plt.title('Citra Awal')\n",
        "plt.subplot(122), plt.imshow(closing_dst), plt.title('Citra Hasil Closing')"
      ],
      "execution_count": null,
      "outputs": []
    }
  ]
}